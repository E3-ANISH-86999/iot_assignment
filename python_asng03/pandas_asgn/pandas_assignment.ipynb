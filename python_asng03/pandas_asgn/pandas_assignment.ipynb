{
 "cells": [
  {
   "cell_type": "code",
   "execution_count": 8,
   "id": "457d536b-2414-4d6d-aebf-03d2281d9a4a",
   "metadata": {},
   "outputs": [],
   "source": [
    "import pandas as pd\n",
    "import numpy as np"
   ]
  },
  {
   "cell_type": "markdown",
   "id": "413b4239-a7a6-439b-8878-18f7af0264cf",
   "metadata": {},
   "source": [
    "#### 1. Write a Pandas program to create and display a one-dimensional array-like object containing an array of data."
   ]
  },
  {
   "cell_type": "code",
   "execution_count": 3,
   "id": "c80ef79a-e28f-408c-aebb-7af661dde25e",
   "metadata": {},
   "outputs": [
    {
     "name": "stdout",
     "output_type": "stream",
     "text": [
      "0    10\n",
      "1    20\n",
      "2    30\n",
      "3    40\n",
      "4    50\n",
      "dtype: int64\n"
     ]
    }
   ],
   "source": [
    "p1=pd.Series([10,20,30,40,50])\n",
    "print(p1)"
   ]
  },
  {
   "cell_type": "markdown",
   "id": "53bf1101-25cc-459e-b30c-7d2d4c491b34",
   "metadata": {},
   "source": [
    "#### 2. Write a Pandas program to convert a Panda module Series to Python list and it’s type."
   ]
  },
  {
   "cell_type": "code",
   "execution_count": 4,
   "id": "bf7eb2c6-b573-4378-9dd8-830be31d90f0",
   "metadata": {},
   "outputs": [
    {
     "name": "stdout",
     "output_type": "stream",
     "text": [
      "[0    10\n",
      "1    20\n",
      "2    30\n",
      "3    40\n",
      "4    50\n",
      "dtype: int64]\n",
      "type <class 'list'>\n"
     ]
    }
   ],
   "source": [
    "p1=pd.Series([10,20,30,40,50])\n",
    "p1=[p1]\n",
    "print(p1)\n",
    "print(f\"type {type(p1)}\")"
   ]
  },
  {
   "cell_type": "markdown",
   "id": "adb24736-4c4a-4e21-a049-9cb2750e23cd",
   "metadata": {},
   "source": [
    "#### 3. Write a Pandas program to add, subtract, multiple and divide two Pandas Series.\n",
    "   Sample Series: [2, 4, 6, 8, 10], [1, 3, 5, 7, 9]"
   ]
  },
  {
   "cell_type": "code",
   "execution_count": 5,
   "id": "3faefbb4-0f5f-4a04-932d-f17f102aedf6",
   "metadata": {},
   "outputs": [
    {
     "name": "stdout",
     "output_type": "stream",
     "text": [
      "add = 0     3\n",
      "1     7\n",
      "2    11\n",
      "3    15\n",
      "4    19\n",
      "dtype: int64\n",
      "sub = 0    1\n",
      "1    1\n",
      "2    1\n",
      "3    1\n",
      "4    1\n",
      "dtype: int64\n",
      "mul = 0     2\n",
      "1    12\n",
      "2    30\n",
      "3    56\n",
      "4    90\n",
      "dtype: int64\n",
      "div = 0    2.000000\n",
      "1    1.333333\n",
      "2    1.200000\n",
      "3    1.142857\n",
      "4    1.111111\n",
      "dtype: float64\n"
     ]
    }
   ],
   "source": [
    "p1=pd.Series([2, 4, 6, 8, 10])\n",
    "p2=pd.Series([1, 3, 5, 7, 9])\n",
    "print(f\"add = {p1+p2}\")\n",
    "print(f\"sub = {p1-p2}\")\n",
    "print(f\"mul = {p1*p2}\")\n",
    "print(f\"div = {p1/p2}\")"
   ]
  },
  {
   "cell_type": "markdown",
   "id": "215b67a7-6eca-4d97-85a3-877b4216fd60",
   "metadata": {},
   "source": [
    "#### 4. Write a Pandas program to convert a dictionary to a Pandas series."
   ]
  },
  {
   "cell_type": "code",
   "execution_count": 6,
   "id": "613d7d9e-0af4-46f4-9a95-411e2663a911",
   "metadata": {},
   "outputs": [
    {
     "name": "stdout",
     "output_type": "stream",
     "text": [
      "type = <class 'dict'>\n",
      "type = <class 'pandas.core.series.Series'>\n"
     ]
    }
   ],
   "source": [
    "d={1:10,2:20,3:30,4:40}\n",
    "print(f\"type = {type(d)}\")\n",
    "p1=pd.Series(d)\n",
    "print(f\"type = {type(p1)}\")"
   ]
  },
  {
   "cell_type": "markdown",
   "id": "5defd5a3-131d-4018-b2f5-dc18b2347941",
   "metadata": {},
   "source": [
    "#### 5. Write a Pandas program to convert a NumPy array to a Pandas series."
   ]
  },
  {
   "cell_type": "code",
   "execution_count": 9,
   "id": "ed5fe7a2-f51d-444c-a8d1-bfd5cb70ce97",
   "metadata": {},
   "outputs": [
    {
     "name": "stdout",
     "output_type": "stream",
     "text": [
      "type = <class 'numpy.ndarray'>\n",
      "type = <class 'pandas.core.series.Series'>\n"
     ]
    }
   ],
   "source": [
    "arr1=np.array([11,22,33,44,55])\n",
    "print(f\"type = {type(arr1)}\")\n",
    "p1=pd.Series(arr1)\n",
    "print(f\"type = {type(p1)}\")"
   ]
  },
  {
   "cell_type": "markdown",
   "id": "036e12cb-6cfd-4672-9138-2977da7b0208",
   "metadata": {},
   "source": [
    "#### 6. Write a Pandas program to change the data type of given a column or a Series."
   ]
  },
  {
   "cell_type": "code",
   "execution_count": 10,
   "id": "9554e3d6-f320-4888-8553-f24fc2ad35f8",
   "metadata": {},
   "outputs": [
    {
     "name": "stdout",
     "output_type": "stream",
     "text": [
      "0    11\n",
      "1    22\n",
      "2    33\n",
      "3    44\n",
      "4    55\n",
      "dtype: object\n"
     ]
    }
   ],
   "source": [
    "p1=pd.Series([11,22,33,44,55]).astype(str)\n",
    "print(p1)"
   ]
  },
  {
   "cell_type": "markdown",
   "id": "ae3d318f-e5d0-42f6-940c-fe049c3d7811",
   "metadata": {},
   "source": [
    "#### 7. Write a Pandas program to convert a given Series to an array."
   ]
  },
  {
   "cell_type": "code",
   "execution_count": 11,
   "id": "a6081388-5d95-4df6-9d18-7552c1382c2f",
   "metadata": {},
   "outputs": [
    {
     "name": "stdout",
     "output_type": "stream",
     "text": [
      "type = <class 'pandas.core.series.Series'>\n",
      "type = <class 'numpy.ndarray'>\n"
     ]
    }
   ],
   "source": [
    "p1=pd.Series([11,22,33,44,55])\n",
    "print(f\"type = {type(p1)}\")\n",
    "arr1=np.array(p1)\n",
    "print(f\"type = {type(arr1)}\")\n"
   ]
  },
  {
   "cell_type": "markdown",
   "id": "74713ad2-491c-46d6-b142-2e6eacf471ea",
   "metadata": {},
   "source": [
    "#### 8. Write a Pandas program to create a dataframe from a dictionary and display it."
   ]
  },
  {
   "cell_type": "code",
   "execution_count": 12,
   "id": "71583aa4-7ab5-4b3d-9594-e677cb4d85a1",
   "metadata": {},
   "outputs": [
    {
     "name": "stdout",
     "output_type": "stream",
     "text": [
      "    name  age sex\n",
      "0  Anish   22   M\n"
     ]
    }
   ],
   "source": [
    "p1=pd.DataFrame([{\"name\":\"Anish\",\"age\":22,\"sex\":\"M\"}])\n",
    "print(p1)"
   ]
  },
  {
   "cell_type": "markdown",
   "id": "19637763-f669-4697-99dc-a38c3fc66922",
   "metadata": {},
   "source": [
    "#### 9. i) Create a list of empids and names (10 employees).\n",
    "####    ii) Convert list into Series.\n",
    "####   iii) Print type of Series.\n",
    "####   iv) Convert Series into DataFrame.\n",
    "####   v) a) Display all records.\n",
    "#####      b) Display first five records.\n",
    "#####      c) Display last five records.\n",
    "#####      d) Display first two and last two records.\n",
    "#####      e) Display name of 5th employee.\n",
    "#####      f) Display record of 4th employee.\n",
    "####    vi) Save the record in csv file (MyRecord.csv)"
   ]
  },
  {
   "cell_type": "code",
   "execution_count": 13,
   "id": "a01919f4-2b65-4fc1-b2ff-b097458e312f",
   "metadata": {},
   "outputs": [
    {
     "name": "stdout",
     "output_type": "stream",
     "text": [
      "type = <class 'pandas.core.series.Series'><class 'pandas.core.series.Series'>\n",
      "   empid       name\n",
      "0    100      Anish\n",
      "1    102      Manoj\n",
      "2    103    Pushpak\n",
      "3    104    Swetang\n",
      "4    105    Vrishal\n",
      "5    106  Pritambra\n",
      "6    107    Akshita\n",
      "7    108      Sneha\n",
      "8    109      Vidhi\n",
      "9    110     Roshan\n",
      "   empid     name\n",
      "0    100    Anish\n",
      "1    102    Manoj\n",
      "2    103  Pushpak\n",
      "3    104  Swetang\n",
      "4    105  Vrishal\n",
      "   empid       name\n",
      "5    106  Pritambra\n",
      "6    107    Akshita\n",
      "7    108      Sneha\n",
      "8    109      Vidhi\n",
      "9    110     Roshan\n",
      "   empid   name\n",
      "0    100  Anish\n",
      "1    102  Manoj    empid    name\n",
      "8    109   Vidhi\n",
      "9    110  Roshan\n",
      "Vrishal\n",
      "empid        104\n",
      "name     Swetang\n",
      "Name: 3, dtype: object\n"
     ]
    }
   ],
   "source": [
    "empid=[100,102,103,104,105,106,107,108,109,110]\n",
    "name=[\"Anish\",\"Manoj\",\"Pushpak\",\"Swetang\",\"Vrishal\",\"Pritambra\",\"Akshita\",\"Sneha\",\"Vidhi\",\"Roshan\"]\n",
    "empid=pd.Series(empid)\n",
    "name=pd.Series(name)\n",
    "print(f\"type = {type(empid)}{type(name)}\")\n",
    "p1=pd.DataFrame({\"empid\":empid,\"name\":name})\n",
    "print(p1)\n",
    "print(p1.head())\n",
    "print(p1.tail())\n",
    "print(p1.head(2),p1.tail(2))\n",
    "print(p1.iloc[4][\"name\"])\n",
    "print(p1.iloc[3])\n",
    "p1.to_csv(\"MyRecord.csv\")"
   ]
  },
  {
   "cell_type": "markdown",
   "id": "b64c5123-2201-4bec-8c19-127302c5d737",
   "metadata": {},
   "source": [
    "#### 10. i) Read the MyRecord.csv file. \n",
    "#####    ii) Create a new column Salary.\n",
    "\n"
   ]
  },
  {
   "cell_type": "code",
   "execution_count": 14,
   "id": "a0b807c6-1170-4151-999a-1d209134d39e",
   "metadata": {},
   "outputs": [
    {
     "name": "stdout",
     "output_type": "stream",
     "text": [
      "   Unnamed: 0  empid       name\n",
      "0           0    100      Anish\n",
      "1           1    102      Manoj\n",
      "2           2    103    Pushpak\n",
      "3           3    104    Swetang\n",
      "4           4    105    Vrishal\n",
      "5           5    106  Pritambra\n",
      "6           6    107    Akshita\n",
      "7           7    108      Sneha\n",
      "8           8    109      Vidhi\n",
      "9           9    110     Roshan\n",
      "   Unnamed: 0  empid       name  Salary\n",
      "0           0    100      Anish   15017\n",
      "1           1    102      Manoj   14351\n",
      "2           2    103    Pushpak   26894\n",
      "3           3    104    Swetang   15591\n",
      "4           4    105    Vrishal   27787\n",
      "5           5    106  Pritambra   26624\n",
      "6           6    107    Akshita   24582\n",
      "7           7    108      Sneha   21112\n",
      "8           8    109      Vidhi   29181\n",
      "9           9    110     Roshan   14525\n"
     ]
    }
   ],
   "source": [
    "p1=pd.read_csv(\"MyRecord.csv\")\n",
    "print(p1)\n",
    "p1['Salary']=np.random.randint(10000,30000,10)\n",
    "print(p1)\n"
   ]
  },
  {
   "cell_type": "markdown",
   "id": "67b91816-92c6-43e0-add0-220bf5be57b4",
   "metadata": {},
   "source": [
    "#### 11. Refer the dataset \"Advertising.csv\" and perform following tasks.\n"
   ]
  },
  {
   "cell_type": "markdown",
   "id": "c0e291fe-9378-4592-a394-d1cc297d83b4",
   "metadata": {},
   "source": [
    "##### i) Read the dataset \"Advertising.csv\" in data frame.\n"
   ]
  },
  {
   "cell_type": "markdown",
   "id": "7f98e896-3578-4d32-85c7-a08aaab7883f",
   "metadata": {},
   "source": [
    "##### ii) Print first five records of dataset.\n"
   ]
  },
  {
   "cell_type": "markdown",
   "id": "f11aaaf4-8c38-4729-8880-c1eca42250af",
   "metadata": {},
   "source": [
    "##### iii) print last five records from dataset.\n"
   ]
  },
  {
   "cell_type": "markdown",
   "id": "b739807b-c048-433d-9417-71255422719a",
   "metadata": {},
   "source": [
    "##### iv) display the columns inside the dataset.\n"
   ]
  },
  {
   "cell_type": "markdown",
   "id": "408a17e4-63a6-410b-b610-d83896690cc8",
   "metadata": {},
   "source": [
    "##### v) display last three records from dataset.\n"
   ]
  },
  {
   "cell_type": "markdown",
   "id": "c3ab3dee-07a2-432b-90e7-ae4352afb25a",
   "metadata": {},
   "source": [
    "##### vi) display the information about the dataset and analyse the data.\n"
   ]
  },
  {
   "cell_type": "markdown",
   "id": "719fbc9c-734f-4577-9124-ac321f5f5222",
   "metadata": {},
   "source": [
    "##### vii) display types of each columns.\n"
   ]
  },
  {
   "cell_type": "markdown",
   "id": "1c4defa6-4417-4826-9490-eddc0ce0d86e",
   "metadata": {},
   "source": [
    "##### viii) check for null values in the dataset and display the sum of null values inside the column.\n"
   ]
  },
  {
   "cell_type": "markdown",
   "id": "5f3c7668-1466-4164-88c3-4a8c8771a42f",
   "metadata": {},
   "source": [
    "##### ix) drop a column 'radio' from a dataset and display first ten records.\n"
   ]
  },
  {
   "cell_type": "markdown",
   "id": "7d03a404-06ea-42a4-a9c9-7689838d3275",
   "metadata": {},
   "source": [
    "##### x) increase the sales by 10% and add a new column \"updated_sales\" in dataframe.\n"
   ]
  },
  {
   "cell_type": "markdown",
   "id": "8d003853-7203-460f-ba9e-583cf522d1e3",
   "metadata": {},
   "source": [
    "##### xi) display shape of data.\n"
   ]
  },
  {
   "cell_type": "markdown",
   "id": "e97470cd-0eeb-4d63-86e8-b23cab054f66",
   "metadata": {},
   "source": [
    "##### xii) Find out maximum,minimum,mean,median,standard deviation value of each column.\n"
   ]
  },
  {
   "cell_type": "markdown",
   "id": "57eee6ca-cedb-4b9a-86fe-c488a921faa9",
   "metadata": {},
   "source": [
    "##### xiii) describe the dataset."
   ]
  },
  {
   "cell_type": "markdown",
   "id": "43cd99b8-d1c8-48f1-9fe1-9e5408518c75",
   "metadata": {},
   "source": [
    "#### 12. Refer the dataset \"Salaries.csv\" and perform following tasks."
   ]
  },
  {
   "cell_type": "markdown",
   "id": "73dc7ab1-01bd-4d6a-a5e7-e88befe97ff1",
   "metadata": {},
   "source": [
    "##### i) Read the dataset in dataframe."
   ]
  },
  {
   "cell_type": "markdown",
   "id": "98e024d7-7280-4431-96c2-90e092237cf6",
   "metadata": {},
   "source": [
    "##### ii) display first five records."
   ]
  },
  {
   "cell_type": "markdown",
   "id": "e6b47154-5dee-4754-ba81-f652d64b53dd",
   "metadata": {},
   "source": [
    "##### iii) display first ten records."
   ]
  },
  {
   "cell_type": "markdown",
   "id": "9b4e5f80-849a-40c1-93c0-5a9173a9d0d0",
   "metadata": {},
   "source": [
    "##### iv) display last five records."
   ]
  },
  {
   "cell_type": "markdown",
   "id": "a1fe2305-b6df-47c8-9086-62e252c8d1b2",
   "metadata": {},
   "source": [
    "##### v) display last ten records."
   ]
  },
  {
   "cell_type": "markdown",
   "id": "ade064f3-1256-43ad-a5e1-2c19b6a1fc1d",
   "metadata": {},
   "source": [
    "##### vi) display the columns inside the dataset."
   ]
  },
  {
   "cell_type": "markdown",
   "id": "db2bdefa-0557-476d-aef8-773b0ec9db0e",
   "metadata": {},
   "source": [
    "##### vii) display shape of data."
   ]
  },
  {
   "cell_type": "markdown",
   "id": "0c4bae24-1f5b-409d-aa2b-e64eb59a4d67",
   "metadata": {},
   "source": [
    "##### viii) describe the dataset."
   ]
  },
  {
   "cell_type": "markdown",
   "id": "478ca52b-9152-4d5d-9a74-194e5e57dc83",
   "metadata": {},
   "source": [
    "##### ix) display the information about the dataset and analyse the data."
   ]
  },
  {
   "cell_type": "markdown",
   "id": "0d0d8c1c-ca2e-4464-b0a9-dc39cf9ac499",
   "metadata": {},
   "source": [
    "##### x) display types of each columns."
   ]
  },
  {
   "cell_type": "markdown",
   "id": "b7a20659-c38c-4d12-a5d1-10790e235752",
   "metadata": {},
   "source": [
    "##### xi) Find out maximum,minimum,mean,median,standard deviation value of each column."
   ]
  },
  {
   "cell_type": "code",
   "execution_count": null,
   "id": "e8025c24-906a-4484-bb11-f4e2e4797f7c",
   "metadata": {},
   "outputs": [],
   "source": []
  }
 ],
 "metadata": {
  "kernelspec": {
   "display_name": "Python 3 (ipykernel)",
   "language": "python",
   "name": "python3"
  },
  "language_info": {
   "codemirror_mode": {
    "name": "ipython",
    "version": 3
   },
   "file_extension": ".py",
   "mimetype": "text/x-python",
   "name": "python",
   "nbconvert_exporter": "python",
   "pygments_lexer": "ipython3",
   "version": "3.10.12"
  }
 },
 "nbformat": 4,
 "nbformat_minor": 5
}
