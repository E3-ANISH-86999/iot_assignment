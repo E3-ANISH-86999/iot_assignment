{
 "cells": [
  {
   "cell_type": "code",
   "execution_count": 1,
   "id": "86841085-badf-4047-92ae-8da9840670f0",
   "metadata": {},
   "outputs": [],
   "source": [
    "import numpy as np"
   ]
  },
  {
   "cell_type": "markdown",
   "id": "97087115-b6f5-4e02-82c1-531f11d27656",
   "metadata": {},
   "source": [
    "#### 1. Write a NumPy program to create an array with the values 1, 7, 13, 105    and determine the size of the memory occupied by the array."
   ]
  },
  {
   "cell_type": "code",
   "execution_count": 10,
   "id": "a9724819-aaa5-4959-a6f1-c14a5f7c6608",
   "metadata": {},
   "outputs": [
    {
     "name": "stdout",
     "output_type": "stream",
     "text": [
      "[  1   7  13 105]\n",
      "Size of array 'arr1': 32\n"
     ]
    }
   ],
   "source": [
    "arr1 = np.array([1, 7, 13, 105])\n",
    "print(f\"Size of array 'arr1': {arr1.nbytes}\")"
   ]
  },
  {
   "cell_type": "markdown",
   "id": "238710f3-38e4-4e29-b65c-3e63771be5c3",
   "metadata": {},
   "source": [
    "#### 2. Write a NumPy program to create an element-wise comparison (greater,    greater_equal, less and less_equal) of two given arrays."
   ]
  },
  {
   "cell_type": "code",
   "execution_count": null,
   "id": "153f6607-41d8-494f-ac35-ee6c0d8ae6bd",
   "metadata": {},
   "outputs": [],
   "source": []
  },
  {
   "cell_type": "markdown",
   "id": "7f7236dd-7bd4-4fa1-8360-e0aeab723b2e",
   "metadata": {},
   "source": [
    "#### 3.  Write a NumPy program to create an array of 10 zeros, 10 ones, 10    fives, 10 tens, 10 twentys and 10 fiftys."
   ]
  },
  {
   "cell_type": "code",
   "execution_count": 6,
   "id": "9552d8e2-af6c-4353-8bdd-3bbb3268a858",
   "metadata": {},
   "outputs": [
    {
     "name": "stdout",
     "output_type": "stream",
     "text": [
      "[0 0 0 0 0 0 0 0 0 0]\n",
      "[1 1 1 1 1 1 1 1 1 1]\n",
      "[5 5 5 5 5 5 5 5 5 5]\n",
      "[10 10 10 10 10 10 10 10 10 10]\n",
      "[20 20 20 20 20 20 20 20 20 20]\n",
      "[50 50 50 50 50 50 50 50 50 50]\n"
     ]
    }
   ],
   "source": [
    "arr3 = np.zeros(10, dtype=np.int8)\n",
    "print(arr3)\n",
    "arr3 = np.ones(10, dtype=np.int8)\n",
    "print(arr3)\n",
    "arr3 = np.ones(10, dtype=np.int8) * 5\n",
    "print(arr3)\n",
    "arr3 = np.ones(10, dtype=np.int8) * 10\n",
    "print(arr3)\n",
    "arr3 = np.ones(10, dtype=np.int8) * 20\n",
    "print(arr3)\n",
    "arr3 = np.ones(10, dtype=np.int8) * 50\n",
    "print(arr3)"
   ]
  },
  {
   "cell_type": "markdown",
   "id": "42677128-8ddd-40ba-9ba3-fa217794dd0c",
   "metadata": {},
   "source": [
    "#### 4. Write a NumPy program to create an array of integers from 30 to 70."
   ]
  },
  {
   "cell_type": "code",
   "execution_count": 8,
   "id": "d712d488-106e-44d7-9b30-9a8ff65e08e5",
   "metadata": {},
   "outputs": [
    {
     "name": "stdout",
     "output_type": "stream",
     "text": [
      "[30 31 32 33 34 35 36 37 38 39 40 41 42 43 44 45 46 47 48 49 50 51 52 53\n",
      " 54 55 56 57 58 59 60 61 62 63 64 65 66 67 68 69 70]\n"
     ]
    }
   ],
   "source": [
    "arr4 = np.arange(30, 71)\n",
    "print(arr4)"
   ]
  },
  {
   "cell_type": "markdown",
   "id": "ff5dc384-bd21-4d2d-bd55-70d5d17dc21e",
   "metadata": {},
   "source": [
    "#### 5. Write a NumPy program to create an array of integers from 50 to 95."
   ]
  },
  {
   "cell_type": "code",
   "execution_count": 13,
   "id": "3fabe74d-dbec-49cd-b518-2cefc978e7aa",
   "metadata": {},
   "outputs": [
    {
     "name": "stdout",
     "output_type": "stream",
     "text": [
      "[50 51 52 53 54 55 56 57 58 59 60 61 62 63 64 65 66 67 68 69 70 71 72 73\n",
      " 74 75 76 77 78 79 80 81 82 83 84 85 86 87 88 89 90 91 92 93 94 95]\n"
     ]
    }
   ],
   "source": [
    "arr5 = np.arange(50, 96)\n",
    "print(arr5)"
   ]
  },
  {
   "cell_type": "markdown",
   "id": "3a889a2b-daf8-4ba1-a0f0-8d0f64cf675e",
   "metadata": {},
   "source": [
    "#### 6. Write a NumPy program to create an array of all even integers from 20 to 80."
   ]
  },
  {
   "cell_type": "code",
   "execution_count": 14,
   "id": "b7ae3670-3ff4-4437-b9d3-a0ee39d76a51",
   "metadata": {},
   "outputs": [
    {
     "name": "stdout",
     "output_type": "stream",
     "text": [
      "[20 22 24 26 28 30 32 34 36 38 40 42 44 46 48 50 52 54 56 58 60 62 64 66\n",
      " 68 70 72 74 76 78 80]\n"
     ]
    }
   ],
   "source": [
    "arr6 = np.arange(20, 81, 2)\n",
    "print(arr6)"
   ]
  },
  {
   "cell_type": "markdown",
   "id": "79583c9c-383c-49e7-8ee0-2e3d4f47df0a",
   "metadata": {},
   "source": [
    "#### 7. Write a NumPy program to create an array of all odd integers from 20 to 80."
   ]
  },
  {
   "cell_type": "code",
   "execution_count": 30,
   "id": "106b1cb5-eaee-4a11-98a4-2cae07cef1e7",
   "metadata": {},
   "outputs": [
    {
     "name": "stdout",
     "output_type": "stream",
     "text": [
      "[21 23 25 27 29 31 33 35 37 39 41 43 45 47 49 51 53 55 57 59 61 63 65 67\n",
      " 69 71 73 75 77 79]\n"
     ]
    }
   ],
   "source": [
    "arr7 = np.arange(21, 81, 2)\n",
    "print(arr7)"
   ]
  },
  {
   "cell_type": "markdown",
   "id": "7db47173-1a8a-4ba4-b39a-6ee2ea57dde1",
   "metadata": {},
   "source": [
    "#### 8. Write a NumPy program to generate an array of 15 random numbers from 10    to 40."
   ]
  },
  {
   "cell_type": "code",
   "execution_count": 17,
   "id": "b2db98d0-7c47-40a0-85b7-7a9e0e130cbd",
   "metadata": {},
   "outputs": [
    {
     "name": "stdout",
     "output_type": "stream",
     "text": [
      "[17 35 28 30 16 37 31 16 38 10 38 18 22 31 34]\n"
     ]
    }
   ],
   "source": [
    "arr8 = np.random.randint(10, 40, 15)\n",
    "print(arr8)"
   ]
  },
  {
   "cell_type": "markdown",
   "id": "2cd68ded-d014-427e-bd1d-d32e2e28065c",
   "metadata": {},
   "source": [
    "#### 9. Write a NumPy program to generate an array of 10 random numbers from 30    to 50."
   ]
  },
  {
   "cell_type": "code",
   "execution_count": null,
   "id": "8b078e79-b43d-4e79-96bf-24a9abcdc3b4",
   "metadata": {},
   "outputs": [],
   "source": [
    "arr9 = np.random.randint(30, 50, 10)\n",
    "print(arr9)"
   ]
  },
  {
   "cell_type": "markdown",
   "id": "7675d1a0-0f8f-4544-ab79-6d7b6e15af0a",
   "metadata": {},
   "source": [
    "#### 10. Write a NumPy program to generate an array of 20 random numbers from 50    to 90."
   ]
  },
  {
   "cell_type": "code",
   "execution_count": 24,
   "id": "8075f147-1067-41ef-aff3-8cb5f09c862f",
   "metadata": {},
   "outputs": [
    {
     "name": "stdout",
     "output_type": "stream",
     "text": [
      "[85 74 54 57 61 52 66 67 64 88 71 64 52 69 83 86 80 84 66 83]\n"
     ]
    }
   ],
   "source": [
    "arr10 = np.random.randint(50, 90, 20)\n",
    "print(arr10)"
   ]
  },
  {
   "cell_type": "markdown",
   "id": "021c5d77-6d9a-4f76-95a8-049557b3ad1f",
   "metadata": {},
   "source": [
    "#### 11. Create any two arrays & perform various mathematical operations.    i.e. Addition, Substraction, Multiplication, Divide.\n"
   ]
  },
  {
   "cell_type": "code",
   "execution_count": null,
   "id": "336c9ae0-a28b-4926-a855-bb11355cab78",
   "metadata": {},
   "outputs": [],
   "source": []
  },
  {
   "cell_type": "markdown",
   "id": "df16c2b2-c33b-4f31-a4b3-11edf4144275",
   "metadata": {},
   "source": [
    "#### 12. Write a NumPy program to create a 3x4 matrix filled with values from 10     to 21."
   ]
  },
  {
   "cell_type": "code",
   "execution_count": 50,
   "id": "5bfdfee1-fb4c-4bf8-8991-2803617daf2c",
   "metadata": {},
   "outputs": [
    {
     "name": "stdout",
     "output_type": "stream",
     "text": [
      "[[10 11 12 13]\n",
      " [14 15 16 17]\n",
      " [18 19 20 21]]\n"
     ]
    }
   ],
   "source": [
    "arr12 = np.arange(10, 22)\n",
    "arr = arr12.reshape([3, 4])\n",
    "print(arr)"
   ]
  },
  {
   "cell_type": "markdown",
   "id": "590b64e5-0c99-42db-8503-8f7a256f4799",
   "metadata": {},
   "source": [
    "#### 13. Write a NumPy program to create a 3x3 identity matrix, i.e. the diagonal     elements are 1, the rest are 0."
   ]
  },
  {
   "cell_type": "code",
   "execution_count": 56,
   "id": "41ac5d90-4bc8-49c1-b2e0-28138c247614",
   "metadata": {},
   "outputs": [
    {
     "name": "stdout",
     "output_type": "stream",
     "text": [
      "[[1 0 0]\n",
      " [0 1 0]\n",
      " [0 0 1]]\n"
     ]
    }
   ],
   "source": [
    "list13 = []\n",
    "for i in range(3):\n",
    "    for j in range(3):\n",
    "        if i == j:\n",
    "            list13.append(1)\n",
    "        else:\n",
    "            list13.append(0)\n",
    "arr13 = np.array(list13)\n",
    "arr13 = arr13.reshape([3, 3])\n",
    "print(arr13)"
   ]
  },
  {
   "cell_type": "markdown",
   "id": "9b04d3f4-56d0-4672-9d47-aaa811e9d729",
   "metadata": {},
   "source": [
    "#### 14. Write a NumPy program to find the number of rows and columns in a given     matrix. "
   ]
  },
  {
   "cell_type": "code",
   "execution_count": 57,
   "id": "39c325a5-a9f5-4e2d-9c00-a5fed6343a3a",
   "metadata": {},
   "outputs": [
    {
     "name": "stdout",
     "output_type": "stream",
     "text": [
      "rows = 3, columns = 3\n"
     ]
    }
   ],
   "source": [
    "dimensions = arr13.shape\n",
    "print(f\"rows = {dimensions[0]}, columns = {dimensions[1]}\")"
   ]
  },
  {
   "cell_type": "markdown",
   "id": "430c6741-9f76-4908-a614-8dc44cabca8f",
   "metadata": {},
   "source": [
    "#### 15. Write a NumPy program to create a 5x5 zero matrix with elements on the     main diagonal equal to 1, 2, 3, 4, 5."
   ]
  },
  {
   "cell_type": "code",
   "execution_count": 70,
   "id": "292fc7a8-ca51-4369-9614-54717666d0f1",
   "metadata": {},
   "outputs": [
    {
     "name": "stdout",
     "output_type": "stream",
     "text": [
      "[[1 0 0 0 0]\n",
      " [0 2 0 0 0]\n",
      " [0 0 3 0 0]\n",
      " [0 0 0 4 0]\n",
      " [0 0 0 0 5]]\n"
     ]
    }
   ],
   "source": [
    "arr15 = np.zeros([5, 5], dtype=np.int8)\n",
    "diag_element = 1\n",
    "for i in range(5):\n",
    "    for j in range(5):\n",
    "        if i == j:\n",
    "            arr15[i][j] = diag_element\n",
    "            diag_element += 1\n",
    "            \n",
    "print(arr15)"
   ]
  },
  {
   "cell_type": "markdown",
   "id": "2110fdf0-34cd-43e5-a66e-1798aba0d177",
   "metadata": {},
   "source": [
    "#### 16. Write a NumPy program to create a 3x3x3 array filled with arbitrary     values."
   ]
  },
  {
   "cell_type": "code",
   "execution_count": null,
   "id": "2167f7c2-8079-40a3-beb7-1cdd290e0660",
   "metadata": {},
   "outputs": [],
   "source": []
  },
  {
   "cell_type": "markdown",
   "id": "cb68369a-d52d-4649-87f2-d4789c94625a",
   "metadata": {},
   "source": [
    "#### 17. Write a NumPy program to create a 2x3x4 array filled with arbitrary     values."
   ]
  },
  {
   "cell_type": "markdown",
   "id": "6a1ac020-e568-4f7d-9a17-7a1fac99243e",
   "metadata": {},
   "source": [
    "#### 18. Write a NumPy program to convert a list of numeric values into a one-    dimensional NumPy array."
   ]
  },
  {
   "cell_type": "code",
   "execution_count": 33,
   "id": "a06842a4-6de7-4b2a-a27a-cc6d3eb608bd",
   "metadata": {},
   "outputs": [
    {
     "name": "stdout",
     "output_type": "stream",
     "text": [
      "[13 32 54 23 56  4 76]\n"
     ]
    }
   ],
   "source": [
    "list18 = [13, 32, 54, 23, 56, 4, 76]\n",
    "arr18 = np.array(list18)\n",
    "print(arr18)"
   ]
  },
  {
   "cell_type": "markdown",
   "id": "2cb08588-a7a8-4932-8446-f46bfda5e854",
   "metadata": {},
   "source": [
    "#### 19. Write a NumPy program to create a 3x3 matrix with values ranging from 2     to 10."
   ]
  },
  {
   "cell_type": "code",
   "execution_count": 73,
   "id": "cd777e91-458d-4a23-b90e-852a208b5e28",
   "metadata": {},
   "outputs": [
    {
     "name": "stdout",
     "output_type": "stream",
     "text": [
      "[[ 2  3  4]\n",
      " [ 5  6  7]\n",
      " [ 8  9 10]]\n"
     ]
    }
   ],
   "source": [
    "arr19 = np.arange(2, 11)\n",
    "arr19 = arr19.reshape([3, 3])\n",
    "print(arr19)"
   ]
  },
  {
   "cell_type": "markdown",
   "id": "416941dd-d672-4e52-b895-3b685c6dd84d",
   "metadata": {},
   "source": [
    "#### 20. Write a NumPy program to create an array with values ranging from 12 to 38."
   ]
  },
  {
   "cell_type": "code",
   "execution_count": 74,
   "id": "d7d2cea8-7bbd-4a9b-9d9c-f088e59c508b",
   "metadata": {},
   "outputs": [
    {
     "name": "stdout",
     "output_type": "stream",
     "text": [
      "[12 13 14 15 16 17 18 19 20 21 22 23 24 25 26 27 28 29 30 31 32 33 34 35\n",
      " 36 37 38]\n"
     ]
    }
   ],
   "source": [
    "arr20 = np.arange(12, 39)\n",
    "print(arr20)"
   ]
  },
  {
   "cell_type": "markdown",
   "id": "993d057d-857b-4dac-ac85-513ce26267ae",
   "metadata": {},
   "source": [
    "#### 21. Write a NumPy program to reverse an array (the first element becomes the last)."
   ]
  },
  {
   "cell_type": "code",
   "execution_count": null,
   "id": "0f50adab-9aa0-4924-88a3-e1b7d4390230",
   "metadata": {},
   "outputs": [],
   "source": []
  },
  {
   "cell_type": "markdown",
   "id": "82e180e3-c25f-49c3-b94b-1f40f90dd462",
   "metadata": {},
   "source": [
    "#### 22. Write a NumPy program to convert an data type into to a floating type."
   ]
  },
  {
   "cell_type": "markdown",
   "id": "0d2cd575-7f8b-4018-a0a7-f060bf061098",
   "metadata": {},
   "source": [
    "#### 23. Write a NumPy program to convert a list array."
   ]
  },
  {
   "cell_type": "markdown",
   "id": "fb742c38-c0a2-4a71-a1ef-25f91c94a61c",
   "metadata": {},
   "source": [
    "#### 24. Write a NumPy program to get the element-wise remainder of an array of division."
   ]
  },
  {
   "cell_type": "markdown",
   "id": "b427f8c0-b6ad-4c96-8d92-b29fc93ee2b3",
   "metadata": {},
   "source": [
    "#### 25. Write a NumPy program to get the element-wise remainder of an array of numbers from 20 to 50 which are divisible by 3."
   ]
  },
  {
   "cell_type": "code",
   "execution_count": null,
   "id": "0b39edf6-dc02-4f7a-8a86-6dedfb6bc99d",
   "metadata": {},
   "outputs": [],
   "source": []
  }
 ],
 "metadata": {
  "kernelspec": {
   "display_name": "Python 3 (ipykernel)",
   "language": "python",
   "name": "python3"
  },
  "language_info": {
   "codemirror_mode": {
    "name": "ipython",
    "version": 3
   },
   "file_extension": ".py",
   "mimetype": "text/x-python",
   "name": "python",
   "nbconvert_exporter": "python",
   "pygments_lexer": "ipython3",
   "version": "3.10.12"
  }
 },
 "nbformat": 4,
 "nbformat_minor": 5
}
